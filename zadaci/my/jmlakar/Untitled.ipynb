{
 "cells": [
  {
   "cell_type": "code",
   "execution_count": 1,
   "metadata": {
    "collapsed": true
   },
   "outputs": [],
   "source": [
    "filename = \"../../03/pywo_some_data.xlsx\""
   ]
  },
  {
   "cell_type": "code",
   "execution_count": 53,
   "metadata": {
    "collapsed": false
   },
   "outputs": [
    {
     "data": {
      "text/plain": [
       "['Josip Mlakar, ',\n",
       " 'Elvis Popović, ',\n",
       " 'Vladimir Milašinović, ',\n",
       " 'Filip Rafajec, ',\n",
       " 'Matej Gucek, ',\n",
       " 'Jura Šolja, ',\n",
       " 'Gabrijela Grgača, ',\n",
       " 'Stjepan Rakarec, ',\n",
       " 'Davorin Špičko, ',\n",
       " 'Milan Pavlović, ',\n",
       " 'Senko Pušec, ',\n",
       " 'Filip Aleksić, ',\n",
       " 'Roman Tomašković, ',\n",
       " 'Peđa Čačić, ',\n",
       " 'Saša Poslončec,',\n",
       " 'Mislav Zebić, ',\n",
       " 'Ian Žonja,',\n",
       " 'Tomislav Cundić, ',\n",
       " 'Matija Kaniški,',\n",
       " 'Petar Šestak,',\n",
       " 'Ivana Završki,',\n",
       " 'Vedran Vađunec, ',\n",
       " 'Matea Bodulušić, ',\n",
       " 'Andrea Danzante,']"
      ]
     },
     "execution_count": 53,
     "metadata": {},
     "output_type": "execute_result"
    }
   ],
   "source": [
    "import xlrd\n",
    "book = xlrd.open_workbook(filename)\n",
    "first_sheet = book.sheet_by_index(0)\n",
    "L=[]\n",
    "for i in range(first_sheet.nrows):\n",
    "    cell = first_sheet.cell(i,0)\n",
    "    L.append(cell.value)\n",
    "\n",
    "M = [x for x in L if x != '']\n",
    "\n",
    "M\n"
   ]
  },
  {
   "cell_type": "code",
   "execution_count": 68,
   "metadata": {
    "collapsed": false
   },
   "outputs": [
    {
     "data": {
      "text/plain": [
       "[['Danzante,', 'Andrea'],\n",
       " ['Špičko,', 'Davorin'],\n",
       " ['Popović,', 'Elvis'],\n",
       " ['Rafajec,', 'Filip'],\n",
       " ['Aleksić,', 'Filip'],\n",
       " ['Grgača,', 'Gabrijela'],\n",
       " ['Žonja,', 'Ian'],\n",
       " ['Završki,', 'Ivana'],\n",
       " ['Mlakar,', 'Josip'],\n",
       " ['Šolja,', 'Jura'],\n",
       " ['Bodulušić,', 'Matea'],\n",
       " ['Gucek,', 'Matej'],\n",
       " ['Kaniški,', 'Matija'],\n",
       " ['Pavlović,', 'Milan'],\n",
       " ['Zebić,', 'Mislav'],\n",
       " ['Šestak,', 'Petar'],\n",
       " ['Čačić,', 'Peđa'],\n",
       " ['Tomašković,', 'Roman'],\n",
       " ['Poslončec,', 'Saša'],\n",
       " ['Pušec,', 'Senko'],\n",
       " ['Rakarec,', 'Stjepan'],\n",
       " ['Cundić,', 'Tomislav'],\n",
       " ['Vađunec,', 'Vedran'],\n",
       " ['Milašinović,', 'Vladimir']]"
      ]
     },
     "execution_count": 68,
     "metadata": {},
     "output_type": "execute_result"
    }
   ],
   "source": [
    "def sredi(ime):\n",
    "    v = ime.strip()\n",
    "    listica = ime.split()\n",
    "    return listica [::-1]\n",
    "\n",
    "P = [ sredi(ime) for ime in M ]\n",
    "sorted(P)\n",
    "f_usporedbe = lambda x:x[1]\n",
    "sorted (P, key = f_usporedbe)"
   ]
  },
  {
   "cell_type": "markdown",
   "metadata": {},
   "source": [
    "DZ za vježub izbaciti \",\" pomoću re modula (regexa)"
   ]
  }
 ],
 "metadata": {
  "kernelspec": {
   "display_name": "Python 3",
   "language": "python",
   "name": "python3"
  },
  "language_info": {
   "codemirror_mode": {
    "name": "ipython",
    "version": 3
   },
   "file_extension": ".py",
   "mimetype": "text/x-python",
   "name": "python",
   "nbconvert_exporter": "python",
   "pygments_lexer": "ipython3",
   "version": "3.4.0"
  }
 },
 "nbformat": 4,
 "nbformat_minor": 0
}
